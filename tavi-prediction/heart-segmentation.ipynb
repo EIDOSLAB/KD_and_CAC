{
 "cells": [
  {
   "cell_type": "code",
   "execution_count": null,
   "id": "cfdb4745",
   "metadata": {},
   "outputs": [],
   "source": [
    "import glob\n",
    "import imageio.v2 as imageio\n",
    "import matplotlib.pyplot as plt\n",
    "import segmentation_models_pytorch as smp\n",
    "import segmentation_models_pytorch.utils\n",
    "import torch\n",
    "from datasets.heart_dataset import HeartDataset, HeartDatasetType\n",
    "from torch.utils.data import DataLoader\n",
    "from torch.utils.data import Dataset\n",
    "from utils import natural_key"
   ]
  },
  {
   "cell_type": "code",
   "execution_count": null,
   "id": "28168302",
   "metadata": {},
   "outputs": [],
   "source": [
    "def visualize(**images):\n",
    "    \"\"\"PLot images in one row.\"\"\"\n",
    "    n = len(images)\n",
    "    plt.figure(figsize=(10, 2))\n",
    "    for i, (name, image) in enumerate(images.items()):\n",
    "        plt.subplot(1, n, i + 1)\n",
    "        plt.xticks([])\n",
    "        plt.yticks([])\n",
    "        plt.title(' '.join(name.split('_')).title())\n",
    "        plt.imshow(image.squeeze(), cmap='gray')\n",
    "    plt.show()"
   ]
  },
  {
   "cell_type": "code",
   "execution_count": null,
   "id": "a378f870",
   "metadata": {},
   "outputs": [],
   "source": [
    "dataset = HeartDataset(use_augmentation=True)\n",
    "\n",
    "image, mask = dataset[70]\n",
    "\n",
    "visualize(\n",
    "    image=image,\n",
    "    mask=mask,\n",
    ")\n",
    "\n",
    "image.min(), image.max(), image.mean(), mask.min(), mask.max()"
   ]
  },
  {
   "cell_type": "code",
   "execution_count": null,
   "id": "2bd47117",
   "metadata": {},
   "outputs": [],
   "source": [
    "import ssl\n",
    "ssl._create_default_https_context = ssl._create_unverified_context\n",
    "\n",
    "ENCODER = 'se_resnext50_32x4d'\n",
    "ENCODER_WEIGHTS = 'imagenet'\n",
    "CLASSES = ['heart']\n",
    "ACTIVATION = 'sigmoid'\n",
    "DEVICE = 'cuda:0'\n",
    "\n",
    "# create segmentation model with pretrained encoder\n",
    "model = smp.FPN(\n",
    "    encoder_name=ENCODER, \n",
    "    encoder_weights=ENCODER_WEIGHTS, \n",
    "    classes=len(CLASSES), \n",
    "    activation=ACTIVATION,\n",
    "    in_channels=1\n",
    ")\n",
    "\n",
    "#model = smp.Unet(\n",
    "#            encoder_name=ENCODER, \n",
    "#            encoder_weights=ENCODER_WEIGHTS, \n",
    "#            classes=len(CLASSES), \n",
    "#            activation=ACTIVATION,\n",
    "#            in_channels=1,\n",
    "#            decoder_channels=(128, 64, 32, 16, 8)\n",
    "#        )\n",
    "\n",
    "preprocessing_fn = smp.encoders.get_preprocessing_fn(ENCODER, ENCODER_WEIGHTS)"
   ]
  },
  {
   "cell_type": "code",
   "execution_count": null,
   "id": "dc91bade",
   "metadata": {},
   "outputs": [],
   "source": [
    "train_dataset = HeartDataset(\n",
    "    dataset_type=HeartDatasetType.TRAIN,\n",
    ")\n",
    "\n",
    "valid_dataset = HeartDataset(\n",
    "    dataset_type=HeartDatasetType.VALIDATION,\n",
    ")\n",
    "\n",
    "test_dataset = HeartDataset(\n",
    "    dataset_type=HeartDatasetType.TEST,\n",
    ")\n",
    "\n",
    "train_loader = DataLoader(train_dataset, batch_size=8, shuffle=True, num_workers=12)\n",
    "valid_loader = DataLoader(valid_dataset, batch_size=1, shuffle=False, num_workers=4)\n",
    "test_loader = DataLoader(test_dataset, batch_size=1, shuffle=False, num_workers=4)"
   ]
  },
  {
   "cell_type": "code",
   "execution_count": null,
   "id": "d110dcaf",
   "metadata": {},
   "outputs": [],
   "source": [
    "#loss = smp.utils.losses.DiceLoss()\n",
    "loss = smp.utils.losses.BCELoss()\n",
    "metrics = [\n",
    "    smp.utils.metrics.IoU(threshold=0.5),\n",
    "    smp.utils.metrics.Fscore(),\n",
    "    smp.utils.metrics.Accuracy(),\n",
    "    smp.utils.metrics.Recall(),\n",
    "    smp.utils.metrics.Precision()\n",
    "]\n",
    "\n",
    "optimizer = torch.optim.Adam([ \n",
    "    dict(params=model.parameters(), lr=1e-4),\n",
    "])"
   ]
  },
  {
   "cell_type": "code",
   "execution_count": null,
   "id": "321253f6",
   "metadata": {},
   "outputs": [],
   "source": [
    "train_epoch = smp.utils.train.TrainEpoch(\n",
    "    model, \n",
    "    loss=loss, \n",
    "    metrics=metrics, \n",
    "    optimizer=optimizer,\n",
    "    device=DEVICE,\n",
    "    verbose=True,\n",
    ")\n",
    "\n",
    "valid_epoch = smp.utils.train.ValidEpoch(\n",
    "    model, \n",
    "    loss=loss, \n",
    "    metrics=metrics, \n",
    "    device=DEVICE,\n",
    "    verbose=True,\n",
    ")"
   ]
  },
  {
   "cell_type": "code",
   "execution_count": null,
   "id": "40d81232",
   "metadata": {},
   "outputs": [],
   "source": [
    "max_score = 0\n",
    "\n",
    "for i in range(0, 10):\n",
    "    \n",
    "    print('\\nEpoch: {}'.format(i))\n",
    "    train_logs = train_epoch.run(train_loader)\n",
    "    valid_logs = valid_epoch.run(valid_loader)\n",
    "    \n",
    "    # do something (save model, change lr, etc.)\n",
    "    if max_score < valid_logs['iou_score']:\n",
    "        max_score = valid_logs['iou_score']\n",
    "        torch.save(model, './best_model_interactive.pth')\n",
    "        print('Model saved!')\n",
    "        \n",
    "    if i == 25:\n",
    "        optimizer.param_groups[0]['lr'] = 1e-5\n",
    "        print('Decrease decoder learning rate to 1e-5!')"
   ]
  },
  {
   "cell_type": "code",
   "execution_count": null,
   "id": "6fe79c8b",
   "metadata": {},
   "outputs": [],
   "source": [
    "best_model = torch.load('./results/heart_segmentation_2/best_model_fpn.pth', map_location=DEVICE)"
   ]
  },
  {
   "cell_type": "code",
   "execution_count": null,
   "id": "87eb9a79",
   "metadata": {},
   "outputs": [],
   "source": [
    "test_epoch = smp.utils.train.ValidEpoch(\n",
    "    best_model,\n",
    "    loss=loss,\n",
    "    metrics=metrics,\n",
    "    device=DEVICE,\n",
    "    verbose=True,\n",
    ")\n",
    "\n",
    "test_epoch.run(test_loader)"
   ]
  },
  {
   "cell_type": "code",
   "execution_count": null,
   "id": "aa852785",
   "metadata": {},
   "outputs": [],
   "source": [
    "image, mask = valid_dataset[60]\n",
    "\n",
    "prediction = best_model.predict(image.to(DEVICE).unsqueeze(0))\n",
    "\n",
    "visualize(\n",
    "    image=image,\n",
    "    mask=mask,\n",
    "    predict=prediction.to('cpu')\n",
    ")"
   ]
  },
  {
   "cell_type": "code",
   "execution_count": null,
   "id": "3de3a5fa",
   "metadata": {},
   "outputs": [],
   "source": [
    "from ct import Ct\n",
    "#ct = Ct('/data/tavi/MOL005/ct/')\n",
    "ct = Ct('/data/calcium_processed/CS_011/ct/', file_pattern='IM-0001-*.dcm')"
   ]
  },
  {
   "cell_type": "code",
   "execution_count": null,
   "id": "a9176455",
   "metadata": {},
   "outputs": [],
   "source": [
    "ct_image = (ct.img[160,:,:] / 1000)\n",
    "\n",
    "prediction = best_model.predict(ct_image.to(DEVICE).unsqueeze(0).unsqueeze(0)).to('cpu')\n",
    "\n",
    "visualize(\n",
    "    image=ct_image,\n",
    "    overlap=ct_image * (prediction<0.1) + (prediction*2),\n",
    "    #mix=ct_image + (prediction*2),\n",
    "    predict=prediction\n",
    ")\n",
    "\n",
    "ct_image.min(), ct_image.max(), prediction.min(), prediction.max()"
   ]
  },
  {
   "cell_type": "code",
   "execution_count": null,
   "id": "fb549a47",
   "metadata": {},
   "outputs": [],
   "source": [
    "masked = torch.empty(ct.img.shape)\n",
    "\n",
    "for i in range(0, ct.img.shape[0]):\n",
    "    image = ct.img[i] / 1000\n",
    "    prediction = best_model.predict(image.to(DEVICE).unsqueeze(0).unsqueeze(0)).to('cpu')\n",
    "    masked[i] = image * (prediction<0.1) + (prediction*2)\n"
   ]
  },
  {
   "cell_type": "code",
   "execution_count": null,
   "id": "7084b47a",
   "metadata": {},
   "outputs": [],
   "source": [
    "%matplotlib widget\n",
    "from viz import VolumePlot, SliceDirection\n",
    "plotter = VolumePlot(masked, figsize=(9,9))\n",
    "plotter.direction = SliceDirection.SAGITTAL\n",
    "plotter.plot_interactive()"
   ]
  }
 ],
 "metadata": {
  "kernelspec": {
   "display_name": "Python 3 (ipykernel)",
   "language": "python",
   "name": "python3"
  },
  "language_info": {
   "codemirror_mode": {
    "name": "ipython",
    "version": 3
   },
   "file_extension": ".py",
   "mimetype": "text/x-python",
   "name": "python",
   "nbconvert_exporter": "python",
   "pygments_lexer": "ipython3",
   "version": "3.10.10"
  }
 },
 "nbformat": 4,
 "nbformat_minor": 5
}

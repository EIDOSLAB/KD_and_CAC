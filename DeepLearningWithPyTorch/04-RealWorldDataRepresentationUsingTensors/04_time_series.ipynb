{
 "cells": [
  {
   "cell_type": "code",
   "execution_count": 7,
   "metadata": {},
   "outputs": [
    {
     "data": {
      "text/plain": [
       "(tensor([[1.0000e+00, 1.0000e+00, 1.0000e+00,  ..., 3.0000e+00, 1.3000e+01,\n",
       "          1.6000e+01],\n",
       "         [2.0000e+00, 1.0000e+00, 1.0000e+00,  ..., 8.0000e+00, 3.2000e+01,\n",
       "          4.0000e+01],\n",
       "         [3.0000e+00, 1.0000e+00, 1.0000e+00,  ..., 5.0000e+00, 2.7000e+01,\n",
       "          3.2000e+01],\n",
       "         ...,\n",
       "         [1.7377e+04, 3.1000e+01, 1.0000e+00,  ..., 7.0000e+00, 8.3000e+01,\n",
       "          9.0000e+01],\n",
       "         [1.7378e+04, 3.1000e+01, 1.0000e+00,  ..., 1.3000e+01, 4.8000e+01,\n",
       "          6.1000e+01],\n",
       "         [1.7379e+04, 3.1000e+01, 1.0000e+00,  ..., 1.2000e+01, 3.7000e+01,\n",
       "          4.9000e+01]]),\n",
       " torch.Size([17520, 17]),\n",
       " (17, 1))"
      ]
     },
     "execution_count": 7,
     "metadata": {},
     "output_type": "execute_result"
    }
   ],
   "source": [
    "import numpy as np\n",
    "import torch\n",
    "\n",
    "# we have a dataset of bike-sharing with statistics per hour of the service\n",
    "bikes_numpy = np.loadtxt(\"../../dlwpt-code/data/p1ch4/bike-sharing-dataset/hour-fixed.csv\",\n",
    "                         dtype=np.float32,\n",
    "                         delimiter=\",\",\n",
    "                         skiprows=1,\n",
    "                         converters={1: lambda x: float(x[8:10])}) # convert date strings to numbers corresponding to the day of the month in column 1\n",
    "\n",
    "bikes = torch.from_numpy(bikes_numpy)\n",
    "bikes, bikes.shape, bikes.stride()"
   ]
  },
  {
   "cell_type": "code",
   "execution_count": 12,
   "metadata": {},
   "outputs": [
    {
     "name": "stdout",
     "output_type": "stream",
     "text": [
      "torch.Size([730, 24, 17]) (408, 17, 1)\n",
      "torch.Size([730, 17, 24]) (408, 1, 17)\n"
     ]
    }
   ],
   "source": [
    "# we have 17520 hours of data for 17 columns (features collected), we want daily batches N*L*C (sequences*hours*channels)\n",
    "daily_bikes = bikes.view(-1, 24, bikes.shape[1])\n",
    "print(daily_bikes.shape, daily_bikes.stride())\n",
    "daily_bikes = daily_bikes.transpose(1, 2)\n",
    "print(daily_bikes.shape, daily_bikes.stride())"
   ]
  },
  {
   "cell_type": "code",
   "execution_count": 18,
   "metadata": {},
   "outputs": [
    {
     "name": "stdout",
     "output_type": "stream",
     "text": [
      "tensor([[1., 0., 0., 0.],\n",
      "        [1., 0., 0., 0.]])\n"
     ]
    },
    {
     "data": {
      "text/plain": [
       "tensor([ 1.0000,  1.0000,  1.0000,  0.0000,  1.0000,  0.0000,  0.0000,  6.0000,\n",
       "         0.0000,  1.0000,  0.2400,  0.2879,  0.8100,  0.0000,  3.0000, 13.0000,\n",
       "        16.0000,  1.0000,  0.0000,  0.0000,  0.0000])"
      ]
     },
     "execution_count": 18,
     "metadata": {},
     "output_type": "execute_result"
    }
   ],
   "source": [
    "# we decide to encode wheather column (9) that have values 1 - good to 4 - bad into one-hot-encoding\n",
    "# for better reading on a single day\n",
    "first_day = bikes[:24].long()\n",
    "wheather_onehot = torch.zeros(first_day.shape[0], 4)\n",
    "wheather_onehot.scatter_(dim=1, index=first_day[:,9].unsqueeze(1).long() - 1, value = 1.0)\n",
    "print(wheather_onehot[:2])\n",
    "\n",
    "# concat day with scatter matrix on dimension 1\n",
    "torch.cat((bikes[:24], wheather_onehot), 1)[0]"
   ]
  },
  {
   "cell_type": "code",
   "execution_count": 24,
   "metadata": {},
   "outputs": [
    {
     "data": {
      "text/plain": [
       "torch.Size([730, 21, 24])"
      ]
     },
     "execution_count": 24,
     "metadata": {},
     "output_type": "execute_result"
    }
   ],
   "source": [
    "# harder to read, on the whole dataset\n",
    "daily_wheather_onehot = torch.zeros(daily_bikes.shape[0], 4, daily_bikes.shape[2])\n",
    "daily_wheather_onehot.scatter_(dim=1, index=daily_bikes[:,9,:].unsqueeze(1).long() - 1, value=1.0)\n",
    "\n",
    "daily_bikes = torch.cat((daily_bikes, daily_wheather_onehot), 1)\n",
    "daily_bikes.shape"
   ]
  }
 ],
 "metadata": {
  "kernelspec": {
   "display_name": "Python 3.10.7 64-bit",
   "language": "python",
   "name": "python3"
  },
  "language_info": {
   "codemirror_mode": {
    "name": "ipython",
    "version": 3
   },
   "file_extension": ".py",
   "mimetype": "text/x-python",
   "name": "python",
   "nbconvert_exporter": "python",
   "pygments_lexer": "ipython3",
   "version": "3.10.7"
  },
  "orig_nbformat": 4,
  "vscode": {
   "interpreter": {
    "hash": "02d069b80ce8d1405797661061ea8b136c47b884583d5712563c1fdf85261dc1"
   }
  }
 },
 "nbformat": 4,
 "nbformat_minor": 2
}

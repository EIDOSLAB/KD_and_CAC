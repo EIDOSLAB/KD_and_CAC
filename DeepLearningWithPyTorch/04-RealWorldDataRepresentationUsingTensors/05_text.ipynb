{
 "cells": [
  {
   "cell_type": "code",
   "execution_count": 2,
   "metadata": {},
   "outputs": [],
   "source": [
    "import torch\n",
    "\n",
    "with open('../../dlwpt-code/data/p1ch4/jane-austen/1342-0.txt', encoding='utf8') as f:\n",
    "    text = f.read()"
   ]
  },
  {
   "cell_type": "code",
   "execution_count": 18,
   "metadata": {},
   "outputs": [
    {
     "name": "stdout",
     "output_type": "stream",
     "text": [
      "“Impossible, Mr. Bennet, impossible, when I am not acquainted with him\n"
     ]
    },
    {
     "data": {
      "text/plain": [
       "(tensor([0., 0., 0., 0., 0., 0., 0., 0., 0., 0., 0., 0., 0., 0., 0., 0., 0., 0.,\n",
       "         0., 0., 0., 0., 0., 0., 0., 0., 0., 0., 0., 0., 0., 0., 0., 0., 0., 0.,\n",
       "         0., 0., 0., 0., 0., 0., 0., 0., 0., 0., 0., 0., 0., 0., 0., 0., 0., 0.,\n",
       "         0., 0., 0., 0., 0., 0., 0., 0., 0., 0., 0., 0., 0., 0., 0., 0., 0., 0.,\n",
       "         0., 0., 0., 0., 0., 0., 0., 0., 0., 0., 0., 0., 0., 0., 0., 0., 0., 0.,\n",
       "         0., 0., 0., 0., 0., 0., 0., 0., 0., 0., 0., 0., 0., 0., 0., 1., 0., 0.,\n",
       "         0., 0., 0., 0., 0., 0., 0., 0., 0., 0., 0., 0., 0., 0., 0., 0., 0., 0.,\n",
       "         0., 0.]),\n",
       " 105)"
      ]
     },
     "execution_count": 18,
     "metadata": {},
     "output_type": "execute_result"
    }
   ],
   "source": [
    "# take a single line as an example\n",
    "# try to do one-hot character encoding\n",
    "lines = text.split('\\n')\n",
    "line = lines[200]\n",
    "print(line)\n",
    "\n",
    "letter_t = torch.zeros(len(line), 128) # 128 ASCII possible characters\n",
    "for i, letter in enumerate(line.lower().strip()):\n",
    "    letter_index = ord(letter) if ord(letter) < 128 else 0\n",
    "    letter_t[i, letter_index] = 1\n",
    "letter_t[1], ord('i')"
   ]
  },
  {
   "cell_type": "code",
   "execution_count": 33,
   "metadata": {},
   "outputs": [
    {
     "name": "stdout",
     "output_type": "stream",
     "text": [
      "15429 6860\n",
      " 0  6860 impossible\n",
      " 1  8757 mr\n",
      " 2  1849 bennet\n",
      " 3  6860 impossible\n",
      " 4 14761 when\n",
      " 5  6704 i\n",
      " 6   661 am\n",
      " 7  9120 not\n",
      " 8   259 acquainted\n",
      " 9 15000 with\n",
      "10  6323 him\n",
      "torch.Size([11, 15429])\n"
     ]
    }
   ],
   "source": [
    "# one-hot encoding whole words\n",
    "def clean_words(input_str): # notice this do not clean correctly the words...\n",
    "    punctuation = '.,;:*!?\"“”_-()\\''\n",
    "    word_list = input_str.lower().replace('\\n', '').split()\n",
    "    word_list = [word.strip(punctuation) for word in word_list]\n",
    "    return word_list\n",
    "\n",
    "words_in_line = clean_words(line)\n",
    "\n",
    "word_list = sorted(set(clean_words(text)))\n",
    "word2index_dict = {word: i for (i, word) in enumerate(word_list)}\n",
    "\n",
    "print(len(word2index_dict), word2index_dict['impossible'])\n",
    "\n",
    "word_t = torch.zeros(len(words_in_line), len(word_list))\n",
    "for i, word in enumerate(words_in_line):\n",
    "    word_index = word2index_dict[word]\n",
    "    word_t[i, word_index] = 1\n",
    "    print(f'{i:2} {word_index:5} {word}')\n",
    "\n",
    "print(word_t.shape)"
   ]
  }
 ],
 "metadata": {
  "kernelspec": {
   "display_name": "Python 3.10.7 64-bit",
   "language": "python",
   "name": "python3"
  },
  "language_info": {
   "codemirror_mode": {
    "name": "ipython",
    "version": 3
   },
   "file_extension": ".py",
   "mimetype": "text/x-python",
   "name": "python",
   "nbconvert_exporter": "python",
   "pygments_lexer": "ipython3",
   "version": "3.10.7"
  },
  "orig_nbformat": 4,
  "vscode": {
   "interpreter": {
    "hash": "02d069b80ce8d1405797661061ea8b136c47b884583d5712563c1fdf85261dc1"
   }
  }
 },
 "nbformat": 4,
 "nbformat_minor": 2
}

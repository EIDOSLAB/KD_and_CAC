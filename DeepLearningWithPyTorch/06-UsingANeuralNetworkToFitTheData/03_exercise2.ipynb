{
 "cells": [
  {
   "cell_type": "code",
   "execution_count": 1,
   "metadata": {},
   "outputs": [
    {
     "name": "stdout",
     "output_type": "stream",
     "text": [
      "['fixed acidity', 'volatile acidity', 'citric acid', 'residual sugar', 'chlorides', 'free sulfur dioxide', 'total sulfur dioxide', 'density', 'pH', 'sulphates', 'alcohol', 'quality']\n"
     ]
    },
    {
     "data": {
      "text/plain": [
       "(torch.Size([4898, 12]), torch.float32)"
      ]
     },
     "execution_count": 1,
     "metadata": {},
     "output_type": "execute_result"
    }
   ],
   "source": [
    "# predict good wines based on chemical analysis\n",
    "import csv\n",
    "import numpy as np\n",
    "import torch\n",
    "import torch.nn as nn\n",
    "import torch.optim as optim\n",
    "\n",
    "wine_path = '../../dlwpt-code/data/p1ch4/tabular-wine/winequality-white.csv'\n",
    "wineq_numpy = np.loadtxt(wine_path, dtype=np.float32, delimiter=\";\", skiprows=1)\n",
    "\n",
    "col_list = next(csv.reader(open(wine_path), delimiter=\";\"))\n",
    "print(col_list)\n",
    "\n",
    "wineq = torch.from_numpy(wineq_numpy)\n",
    "wineq.shape, wineq.dtype"
   ]
  },
  {
   "cell_type": "code",
   "execution_count": 3,
   "metadata": {},
   "outputs": [],
   "source": [
    "# split train and validation sets\n",
    "n_samples = wineq.shape[0]\n",
    "n_val = int(0.2 * n_samples)\n",
    "\n",
    "shuffled_indices = torch.randperm(n_samples) # random\n",
    "\n",
    "train_indices = shuffled_indices[:-n_val]\n",
    "val_indices = shuffled_indices[-n_val:]\n",
    "\n",
    "wineq_train = wineq[train_indices]\n",
    "wineq_val = wineq[val_indices]"
   ]
  },
  {
   "cell_type": "code",
   "execution_count": 9,
   "metadata": {},
   "outputs": [
    {
     "name": "stdout",
     "output_type": "stream",
     "text": [
      "torch.Size([3919, 1]) torch.Size([3919, 11])\n",
      "torch.Size([979, 1]) torch.Size([979, 11])\n"
     ]
    }
   ],
   "source": [
    "# split result (quality) and data\n",
    "wineq_train_expected = wineq_train[:, -1].unsqueeze(1)\n",
    "wineq_train_data = wineq_train[:, :-1]\n",
    "\n",
    "wineq_val_expected = wineq_val[:, -1].unsqueeze(1)\n",
    "wineq_val_data = wineq_val[:, :-1]\n",
    "\n",
    "print(wineq_train_expected.shape, wineq_train_data.shape)\n",
    "print(wineq_val_expected.shape, wineq_val_data.shape)\n",
    "#wineq_train_expected, wineq_train_data, wineq_val_expected, wineq_val_data"
   ]
  },
  {
   "cell_type": "code",
   "execution_count": 10,
   "metadata": {},
   "outputs": [],
   "source": [
    "def training_loop(n_epochs, optimizer, model, loss_fn, train_data, val_data, train_expected, val_expected):\n",
    "    for epoch in range(1, n_epochs+1):\n",
    "        train_predicted = model(train_data)\n",
    "        loss_train = loss_fn(train_predicted, train_expected)\n",
    "\n",
    "        val_predicted = model(val_data)\n",
    "        loss_val = loss_fn(val_predicted, val_expected)\n",
    "\n",
    "        optimizer.zero_grad()\n",
    "        loss_train.backward()\n",
    "        optimizer.step()\n",
    "\n",
    "        if epoch <= 3 or epoch % 1000 == 0:\n",
    "            print(f'Epoch {epoch}, Training loss {loss_train:.4f}, Validation loss {loss_val:.4f}')"
   ]
  },
  {
   "cell_type": "code",
   "execution_count": 18,
   "metadata": {},
   "outputs": [
    {
     "name": "stdout",
     "output_type": "stream",
     "text": [
      "Epoch 1, Training loss 34.6151, Validation loss 34.6046\n",
      "Epoch 2, Training loss 32.7312, Validation loss 32.7120\n",
      "Epoch 3, Training loss 30.9235, Validation loss 30.9056\n",
      "Epoch 1000, Training loss 0.7662, Validation loss 0.7307\n",
      "Epoch 2000, Training loss 0.7792, Validation loss 0.7557\n",
      "Epoch 3000, Training loss 0.7701, Validation loss 0.7436\n",
      "Epoch 4000, Training loss 0.7226, Validation loss 0.6949\n",
      "Epoch 5000, Training loss 0.7607, Validation loss 0.7264\n",
      "output: tensor([[5.9463],\n",
      "        [5.9447],\n",
      "        [5.9466],\n",
      "        [5.9456],\n",
      "        [5.9464],\n",
      "        [4.9746],\n",
      "        [5.9400],\n",
      "        [5.9457],\n",
      "        [5.9460],\n",
      "        [5.9461]], grad_fn=<AddmmBackward0>)\n",
      "answer: tensor([[6.],\n",
      "        [6.],\n",
      "        [6.],\n",
      "        [6.],\n",
      "        [6.],\n",
      "        [5.],\n",
      "        [7.],\n",
      "        [5.],\n",
      "        [5.],\n",
      "        [6.]])\n"
     ]
    }
   ],
   "source": [
    "from collections import OrderedDict\n",
    "\n",
    "seq_model = nn.Sequential(OrderedDict(\n",
    "    [('hidden_linear', nn.Linear(11, 13)),\n",
    "     ('hidden_activation', nn.Tanh()),\n",
    "     ('output_linear', nn.Linear(13, 1))\n",
    "]))\n",
    "optimizer = optim.SGD(seq_model.parameters(), lr=1e-3)\n",
    "\n",
    "training_loop(n_epochs=5000,\n",
    "              optimizer=optimizer,\n",
    "              model=seq_model,\n",
    "              loss_fn=nn.MSELoss(),\n",
    "              train_data=wineq_train_data,\n",
    "              val_data=wineq_val_data,\n",
    "              train_expected=wineq_train_expected,\n",
    "              val_expected=wineq_val_expected)\n",
    "\n",
    "print(f'output: {seq_model(wineq_val_data[:10])}')\n",
    "print(f'answer: {wineq_val_expected[:10]}')"
   ]
  }
 ],
 "metadata": {
  "kernelspec": {
   "display_name": "Python 3.10.7 64-bit",
   "language": "python",
   "name": "python3"
  },
  "language_info": {
   "codemirror_mode": {
    "name": "ipython",
    "version": 3
   },
   "file_extension": ".py",
   "mimetype": "text/x-python",
   "name": "python",
   "nbconvert_exporter": "python",
   "pygments_lexer": "ipython3",
   "version": "3.10.7"
  },
  "orig_nbformat": 4,
  "vscode": {
   "interpreter": {
    "hash": "02d069b80ce8d1405797661061ea8b136c47b884583d5712563c1fdf85261dc1"
   }
  }
 },
 "nbformat": 4,
 "nbformat_minor": 2
}

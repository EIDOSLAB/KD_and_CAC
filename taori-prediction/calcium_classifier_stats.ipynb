{
 "cells": [
  {
   "cell_type": "code",
   "execution_count": null,
   "id": "4f09e0dd",
   "metadata": {},
   "outputs": [],
   "source": [
    "import math\n",
    "import matplotlib.pyplot as plt\n",
    "import pandas as pd\n",
    "import re\n",
    "\n",
    "def get_config(file_name):\n",
    "    with open(file_name) as log_file:\n",
    "        for line in log_file:\n",
    "            return line # first line.\n",
    "\n",
    "def get_line_stats(stats, match, fold_type):\n",
    "    if match:\n",
    "        #fold = f'{fold_type} {match.group(1)}'\n",
    "        fold = match.group(1)\n",
    "        epoch = match.group(2)\n",
    "        stat_name = match.group(3)\n",
    "        value = match.group(4)\n",
    "\n",
    "        if fold not in stats:\n",
    "            stats[fold] = dict()\n",
    "\n",
    "        #if stat_name not in stats[fold]:\n",
    "        #    stats[fold][stat_name] = []\n",
    "        if stat_name not in stats[fold]:\n",
    "            stats[fold][stat_name] = dict()\n",
    "            \n",
    "        if fold_type not in stats[fold][stat_name]:\n",
    "            stats[fold][stat_name][fold_type] = []\n",
    "\n",
    "        stats[fold][stat_name][fold_type].append(value)\n",
    "        \n",
    "def get_train_stats(file_name):\n",
    "    with open(file_name) as log_file:\n",
    "        stats = dict()\n",
    "        for line in log_file:\n",
    "            train_match = re.search(r'Fold ([0-9]+) Epoch ([0-9]+).*Train stats ([a-zA-Z_]+): ([0-9\\.e-]+)', line)\n",
    "            get_line_stats(stats, train_match, 'Train')\n",
    "\n",
    "            valid_match = re.search(r'Fold ([0-9]+) Epoch ([0-9]+).*Valid stats ([a-zA-Z_]+): ([0-9\\.e-]+)', line)\n",
    "            get_line_stats(stats, valid_match, 'Valid')\n",
    "\n",
    "            all_match = re.search(r'(ALL) Epoch ([0-9]+).*Train stats ([a-zA-Z_]+): ([0-9\\.e-]+)', line)\n",
    "            get_line_stats(stats, all_match, 'Train')\n",
    "    return stats\n",
    "        \n",
    "def draw_stats(stats):\n",
    "    for fold, fold_stats in stats.items():\n",
    "        fig = plt.figure(figsize=(12, 2))\n",
    "        cols = len(fold_stats.keys())\n",
    "        i = 1\n",
    "        for stat_name, fold_types in fold_stats.items():\n",
    "            subplot = fig.add_subplot(1, cols, i)\n",
    "            i += 1\n",
    "            max_y = 1.05\n",
    "            for fold_type, values in fold_types.items():\n",
    "                x = range(1, len(values)+1)\n",
    "                y = [float(v) for v in values]\n",
    "                plt.plot(x, y, marker='.', label=fold_type)\n",
    "                max_y = max(y + [max_y])\n",
    "            plt.ylim(0, max_y)\n",
    "            plt.legend()\n",
    "            plt.title(f'Fold {fold} {stat_name}')\n",
    "        plt.show()\n",
    "\n",
    "def get_test_stats(file_name):\n",
    "    with open(file_name) as log_file:\n",
    "        stats = dict()\n",
    "        for line in log_file:\n",
    "            match = re.search(r'\\[TEST (.*)\\] Stats ([a-zA-Z_]+): ([0-9\\.e-]+)', line)\n",
    "            if match:\n",
    "                model = match.group(1)\n",
    "                stat_name = match.group(2)\n",
    "                value = match.group(3)\n",
    "                \n",
    "                if model not in stats:\n",
    "                    stats[model] = dict()\n",
    "                    \n",
    "                stats[model][stat_name] = value\n",
    "    return stats\n",
    "\n",
    "def get_network(file_name):\n",
    "    net_lines = []\n",
    "    with open(file_name) as log_file:\n",
    "        reading_net = False\n",
    "        first_using = False\n",
    "        for line in log_file:\n",
    "            match = re.search(' Using ', line)\n",
    "            if match:\n",
    "                if not first_using:\n",
    "                    first_using = True\n",
    "                else:\n",
    "                    reading_net = True\n",
    "            else:\n",
    "                match = re.search('Starting Epoch', line)\n",
    "                if match:\n",
    "                    reading_net = False\n",
    "                    break\n",
    "                \n",
    "            if reading_net:\n",
    "                net_lines.append(line)\n",
    "    return net_lines\n",
    "                "
   ]
  },
  {
   "cell_type": "markdown",
   "id": "6231e84d",
   "metadata": {},
   "source": [
    "<h2>Stats from simple network training</h2>"
   ]
  },
  {
   "cell_type": "code",
   "execution_count": null,
   "id": "0559bdc8",
   "metadata": {},
   "outputs": [],
   "source": [
    "get_config('results/calcium_8/run_calcium_classifier.log')"
   ]
  },
  {
   "cell_type": "code",
   "execution_count": null,
   "id": "d539c971",
   "metadata": {},
   "outputs": [],
   "source": [
    "stats = get_train_stats('results/calcium_8/run_calcium_classifier.log')\n",
    "draw_stats(stats)"
   ]
  },
  {
   "cell_type": "code",
   "execution_count": null,
   "id": "84bbeed3",
   "metadata": {},
   "outputs": [],
   "source": [
    "stats = get_test_stats('results/calcium_8/run_calcium_classifier.log')\n",
    "pd.DataFrame(stats)"
   ]
  },
  {
   "cell_type": "markdown",
   "id": "3d8997ad",
   "metadata": {},
   "source": [
    "<h2>Stats from medicalnet 34</h2>"
   ]
  },
  {
   "cell_type": "code",
   "execution_count": null,
   "id": "70708049",
   "metadata": {},
   "outputs": [],
   "source": [
    "get_config('results/calcium_3/run_calcium_classifier.log')"
   ]
  },
  {
   "cell_type": "code",
   "execution_count": null,
   "id": "83d531be",
   "metadata": {},
   "outputs": [],
   "source": [
    "stats = get_train_stats('results/calcium_3/run_calcium_classifier.log')\n",
    "draw_stats(stats)"
   ]
  },
  {
   "cell_type": "code",
   "execution_count": null,
   "id": "a86c7864",
   "metadata": {},
   "outputs": [],
   "source": [
    "stats = get_test_stats('results/calcium_3/run_calcium_classifier.log')\n",
    "pd.DataFrame(stats)"
   ]
  },
  {
   "cell_type": "markdown",
   "id": "fcef56e2",
   "metadata": {},
   "source": [
    "<h2>Stats from medicalnet 18 training</h2>"
   ]
  },
  {
   "cell_type": "code",
   "execution_count": null,
   "id": "a7677685",
   "metadata": {},
   "outputs": [],
   "source": [
    "get_config('results/calcium_4/run_calcium_classifier.log')"
   ]
  },
  {
   "cell_type": "code",
   "execution_count": null,
   "id": "298c4012",
   "metadata": {},
   "outputs": [],
   "source": [
    "stats = get_train_stats('results/calcium_4/run_calcium_classifier.log')\n",
    "draw_stats(stats)"
   ]
  },
  {
   "cell_type": "code",
   "execution_count": null,
   "id": "8cdbb5a7",
   "metadata": {},
   "outputs": [],
   "source": [
    "stats = get_test_stats('results/calcium_4/run_calcium_classifier.log')\n",
    "pd.DataFrame(stats)"
   ]
  },
  {
   "cell_type": "markdown",
   "id": "82343a39",
   "metadata": {},
   "source": [
    "<h2>Stats from medicalnet 10 training</h2>"
   ]
  },
  {
   "cell_type": "code",
   "execution_count": null,
   "id": "0b9bc510",
   "metadata": {},
   "outputs": [],
   "source": [
    "get_config('results/calcium_5/run_calcium_classifier.log')"
   ]
  },
  {
   "cell_type": "code",
   "execution_count": null,
   "id": "1a2a0908",
   "metadata": {},
   "outputs": [],
   "source": [
    "stats = get_train_stats('results/calcium_5/run_calcium_classifier.log')\n",
    "draw_stats(stats)"
   ]
  },
  {
   "cell_type": "code",
   "execution_count": null,
   "id": "bed5d8be",
   "metadata": {},
   "outputs": [],
   "source": [
    "stats = get_test_stats('results/calcium_5/run_calcium_classifier.log')\n",
    "pd.DataFrame(stats)"
   ]
  },
  {
   "cell_type": "markdown",
   "id": "3e65d97e",
   "metadata": {},
   "source": [
    "<h2>Stats from medicalnet 10 training - with medicalnet norm + improved classifier layers</h2>"
   ]
  },
  {
   "cell_type": "code",
   "execution_count": null,
   "id": "21b4f05a",
   "metadata": {},
   "outputs": [],
   "source": [
    "get_config('results/calcium_6/run_calcium_classifier.log')"
   ]
  },
  {
   "cell_type": "code",
   "execution_count": null,
   "id": "4087cea1",
   "metadata": {},
   "outputs": [],
   "source": [
    "stats = get_train_stats('results/calcium_6/run_calcium_classifier.log')\n",
    "draw_stats(stats)"
   ]
  },
  {
   "cell_type": "code",
   "execution_count": null,
   "id": "738726c3",
   "metadata": {},
   "outputs": [],
   "source": [
    "stats = get_test_stats('results/calcium_6/run_calcium_classifier.log')\n",
    "pd.DataFrame(stats)"
   ]
  },
  {
   "cell_type": "markdown",
   "id": "ce3d3fdb",
   "metadata": {},
   "source": [
    "<h2>Stats from medicalnet 10 training - with medicalnet norm</h2>"
   ]
  },
  {
   "cell_type": "code",
   "execution_count": null,
   "id": "c435419b",
   "metadata": {},
   "outputs": [],
   "source": [
    "log_file = 'results/calcium_17/run_calcium_classifier.log'\n",
    "print(get_config(log_file))\n",
    "get_network(log_file)"
   ]
  },
  {
   "cell_type": "code",
   "execution_count": null,
   "id": "1780e314",
   "metadata": {
    "scrolled": false
   },
   "outputs": [],
   "source": [
    "stats = get_train_stats(log_file)\n",
    "draw_stats(stats)"
   ]
  },
  {
   "cell_type": "code",
   "execution_count": null,
   "id": "90358922",
   "metadata": {},
   "outputs": [],
   "source": [
    "stats = get_test_stats(log_file)\n",
    "frame = pd.DataFrame(stats)\n",
    "#frame[['last_model.pth']]\n",
    "frame"
   ]
  }
 ],
 "metadata": {
  "kernelspec": {
   "display_name": "Python 3 (ipykernel)",
   "language": "python",
   "name": "python3"
  },
  "language_info": {
   "codemirror_mode": {
    "name": "ipython",
    "version": 3
   },
   "file_extension": ".py",
   "mimetype": "text/x-python",
   "name": "python",
   "nbconvert_exporter": "python",
   "pygments_lexer": "ipython3",
   "version": "3.10.10"
  }
 },
 "nbformat": 4,
 "nbformat_minor": 5
}

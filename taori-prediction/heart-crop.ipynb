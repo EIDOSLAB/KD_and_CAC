{
 "cells": [
  {
   "cell_type": "code",
   "execution_count": null,
   "id": "5c0b3da6",
   "metadata": {},
   "outputs": [],
   "source": [
    "import cv2\n",
    "import matplotlib.pyplot as plt\n",
    "import numpy as np\n",
    "import torch\n",
    "import torchvision\n",
    "from ct import Ct\n",
    "from viz import VolumePlot\n",
    "\n",
    "DEVICE = 'cuda:0'"
   ]
  },
  {
   "cell_type": "code",
   "execution_count": null,
   "id": "896e47d0",
   "metadata": {},
   "outputs": [],
   "source": [
    "best_model = torch.load('./results/heart_segmentation_2/best_model_fpn.pth', map_location=DEVICE)"
   ]
  },
  {
   "cell_type": "code",
   "execution_count": null,
   "id": "0ad13ee4",
   "metadata": {},
   "outputs": [],
   "source": [
    "ct = Ct('/data/calcium_processed/CAC_011/ct/', file_pattern='IM-0001-*.dcm')"
   ]
  },
  {
   "cell_type": "code",
   "execution_count": null,
   "id": "ddf1226e",
   "metadata": {},
   "outputs": [],
   "source": [
    "masked = torch.empty(ct.img.shape)\n",
    "mask = torch.empty(ct.img.shape)\n",
    "\n",
    "for i in range(0, ct.img.shape[0]):\n",
    "    image = ct.img[i] / 1000\n",
    "    mask[i] = best_model.predict(image.to(DEVICE).unsqueeze(0).unsqueeze(0)).to('cpu') > 0.1\n",
    "    masked[i] = image * (mask[i]<0.1) + (mask[i]*2)"
   ]
  },
  {
   "cell_type": "code",
   "execution_count": null,
   "id": "2173b99c",
   "metadata": {},
   "outputs": [],
   "source": [
    "crops = [{ 'x':0, 'y':0, 'w':0, 'h':0 }] * mask.shape[0]\n",
    "\n",
    "min_z = mask.shape[0]\n",
    "max_z = 0\n",
    "\n",
    "min_y = mask.shape[1]\n",
    "max_y = 0\n",
    "\n",
    "min_x = mask.shape[2]\n",
    "max_x = 0\n",
    "\n",
    "for i in range(0, mask.shape[0]):\n",
    "    mask_slice = mask[i]\n",
    "    mask_np = mask_slice.numpy().astype(np.uint8)\n",
    "\n",
    "    contours, hierarchy = cv2.findContours(mask_np,cv2.RETR_LIST,cv2.CHAIN_APPROX_SIMPLE)\n",
    "\n",
    "    # Find object with the biggest bounding box\n",
    "    mx = (0,0,0,0)      # biggest bounding box so far\n",
    "    mx_area = 0\n",
    "    for cont in contours:\n",
    "        x,y,w,h = cv2.boundingRect(cont)\n",
    "        area = w*h\n",
    "        if area > mx_area:\n",
    "            mx = x,y,w,h\n",
    "            mx_area = area\n",
    "    x,y,w,h = mx\n",
    "    # rectangle is big enough\n",
    "    if w > 20 and h > 20:\n",
    "        if min_z > i: min_z = i\n",
    "        if max_z < i: max_z = i\n",
    "        if min_x > x: min_x = x\n",
    "        if max_x < x+w: max_x = x+w\n",
    "        if min_y > y: min_y = y\n",
    "        if max_y < y+h: max_y = y+h\n",
    "        crops[i] = { 'x':x, 'y':y, 'w':w, 'h':h }\n",
    "\n",
    "    print(crops[i]['x'], crops[i]['y'], crops[i]['w'], crops[i]['h'])\n",
    "\n",
    "min_z, max_z, min_y, max_y, min_x, max_x"
   ]
  },
  {
   "cell_type": "code",
   "execution_count": null,
   "id": "8ec6e8c8",
   "metadata": {},
   "outputs": [],
   "source": [
    "%matplotlib widget\n",
    "cropped_volume = ct.img[min_z:max_z,min_y:max_y,min_x:max_x]\n",
    "\n",
    "plotter = VolumePlot(cropped_volume, figsize=(9,9))\n",
    "plotter.plot()\n",
    "\n",
    "masked.shape, cropped_volume.shape"
   ]
  },
  {
   "cell_type": "code",
   "execution_count": null,
   "id": "4d780bab",
   "metadata": {},
   "outputs": [],
   "source": [
    "plotter.plot_interactive()"
   ]
  },
  {
   "cell_type": "code",
   "execution_count": null,
   "id": "e8d353ae",
   "metadata": {},
   "outputs": [],
   "source": [
    "import pickle\n",
    "\n",
    "with open('./results/heart_crop_1/CAC_001.pkl', 'rb') as file:\n",
    "    bounding_volume = pickle.load(file)\n",
    "\n",
    "ct = Ct('/data/calcium_processed/CAC_001/ct/', file_pattern='IM-0001-*.dcm')"
   ]
  },
  {
   "cell_type": "code",
   "execution_count": null,
   "id": "981b8f31",
   "metadata": {},
   "outputs": [],
   "source": [
    "crop = ct.img[bounding_volume['min_z']:bounding_volume['max_z'],\n",
    "              bounding_volume['min_y']:bounding_volume['max_y'],\n",
    "              bounding_volume['min_x']:bounding_volume['max_x']]\n",
    "\n",
    "plotter = VolumePlot(crop, figsize=(9,9))\n",
    "plotter.plot()\n",
    "\n",
    "crop.shape, crop.dtype"
   ]
  }
 ],
 "metadata": {
  "kernelspec": {
   "display_name": "Python 3 (ipykernel)",
   "language": "python",
   "name": "python3"
  },
  "language_info": {
   "codemirror_mode": {
    "name": "ipython",
    "version": 3
   },
   "file_extension": ".py",
   "mimetype": "text/x-python",
   "name": "python",
   "nbconvert_exporter": "python",
   "pygments_lexer": "ipython3",
   "version": "3.10.10"
  }
 },
 "nbformat": 4,
 "nbformat_minor": 5
}

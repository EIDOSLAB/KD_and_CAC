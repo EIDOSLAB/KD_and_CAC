{
 "cells": [
  {
   "cell_type": "code",
   "execution_count": null,
   "id": "e7fe3553",
   "metadata": {},
   "outputs": [],
   "source": [
    "import glob\n",
    "import os\n",
    "from matplotlib import pyplot as plt\n",
    "from rx import Rx\n",
    "from utils import natural_key\n",
    "from datasets.calcium_dataset import CalciumDataset\n",
    "\n",
    "import numpy as np\n",
    "import skimage\n",
    "import torch\n",
    "import torchvision\n",
    "import torchxrayvision as xrv\n",
    "\n",
    "ds = CalciumDataset()"
   ]
  },
  {
   "cell_type": "code",
   "execution_count": null,
   "id": "2a3c60b3",
   "metadata": {},
   "outputs": [],
   "source": [
    "data_path = '/data/calcium_processed'\n",
    "folders = glob.glob(f'{data_path}/*/rx/')\n",
    "folders.sort(key=natural_key)\n",
    "\n",
    "patients_ids = [os.path.basename(os.path.normpath(folder[:-4])) for folder in folders\n",
    "                if os.path.basename(os.path.normpath(folder[:-4]))]"
   ]
  },
  {
   "cell_type": "code",
   "execution_count": null,
   "id": "55d92190",
   "metadata": {},
   "outputs": [],
   "source": [
    "for patient in patients_ids:\n",
    "    img_files = glob.glob(f'{data_path}/{patient}/rx/*.dcm')\n",
    "    img_files.sort(key=natural_key)\n",
    "    \n",
    "    for i in range(0, len(img_files)):\n",
    "        rx = Rx(img_files[i])\n",
    "        try:\n",
    "            print(patient, img_files[i], rx.metadata[\"Pixel Spacing\"])\n",
    "        except:\n",
    "            print(patient, img_files[i], rx.metadata[\"Imager Pixel Spacing\"])\n",
    "        \n",
    "        print(rx.img.min(), rx.img.max())\n",
    "        \n",
    "        try:\n",
    "            print(rx.metadata[\"Series Description\"])\n",
    "        except:\n",
    "            print('-')\n",
    "        try:\n",
    "            print(rx.metadata[\"Acquisition Device Processing Description\"])\n",
    "        except:\n",
    "            print('-')\n",
    "        try:\n",
    "            print(rx.metadata[\"Protocol Name\"])\n",
    "        except:\n",
    "            print('-')\n",
    "        print('')"
   ]
  },
  {
   "cell_type": "code",
   "execution_count": null,
   "id": "512b90ca",
   "metadata": {},
   "outputs": [],
   "source": [
    "rx = Rx('/data/calcium_processed/CAC_439/rx', 'IM-0104*.dcm')"
   ]
  },
  {
   "cell_type": "code",
   "execution_count": null,
   "id": "92d8dfb1",
   "metadata": {
    "scrolled": true
   },
   "outputs": [],
   "source": [
    "plt.imshow(rx.img.squeeze(0), cmap='gray')\n",
    "rx.img.shape\n",
    "rx.metadata"
   ]
  },
  {
   "cell_type": "code",
   "execution_count": null,
   "id": "494490bc",
   "metadata": {},
   "outputs": [],
   "source": [
    "shapes = []\n",
    "\n",
    "for i in range(0, len(ds)):\n",
    "    patient = ds.patients[i]\n",
    "    print(patient[\"id\"])\n",
    "    rx, label = ds[i]\n",
    "    \n",
    "    fig = plt.figure(figsize=(2,2))\n",
    "    subplot = fig.add_subplot(1, 1, 1)\n",
    "    plt.imshow(rx.squeeze(0), cmap='gray')\n",
    "    plt.show()\n",
    "    \n",
    "    print(f'{patient[\"id\"]} {rx.shape} {label}')\n",
    "    shapes.append(rx.shape)\n"
   ]
  },
  {
   "cell_type": "code",
   "execution_count": null,
   "id": "603375c7",
   "metadata": {},
   "outputs": [],
   "source": [
    "import statistics as s\n",
    "\n",
    "heights = [s[1] for s in shapes]\n",
    "widths = [s[2] for s in shapes]\n",
    "\n",
    "print(len(widths), min(widths), s.mean(widths), s.median(widths), max(widths))\n",
    "print(len(heights), min(heights), s.mean(heights), s.median(heights), max(heights))"
   ]
  },
  {
   "cell_type": "code",
   "execution_count": null,
   "id": "17c347d0",
   "metadata": {},
   "outputs": [],
   "source": [
    "# see https://github.com/mlmed/torchxrayvision/blob/master/scripts/segmentation.ipynb\n",
    "import numpy as np\n",
    "import skimage\n",
    "import torch\n",
    "import torchvision\n",
    "import matplotlib.pyplot as plt\n",
    "import torchxrayvision as xrv\n",
    "\n",
    "rx, label = ds[1]\n",
    "rx = rx * 1024\n",
    "img = rx.detach().numpy()\n",
    "\n",
    "transform = torchvision.transforms.Compose([xrv.datasets.XRayCenterCrop(),xrv.datasets.XRayResizer(512)])\n",
    "\n",
    "img = transform(img)\n",
    "img = torch.from_numpy(img)\n",
    "\n",
    "model = xrv.baseline_models.chestx_det.PSPNet()\n",
    "with torch.no_grad():\n",
    "    pred = model(img)\n",
    "\n",
    "# ['Left Clavicle', 'Right Clavicle', 'Left Scapula', 'Right Scapula',\n",
    "#  'Left Lung', 'Right Lung', 'Left Hilus Pulmonis', 'Right Hilus Pulmonis',\n",
    "#  'Heart', 'Aorta', 'Facies Diaphragmatica', 'Mediastinum',  'Weasand', 'Spine']"
   ]
  },
  {
   "cell_type": "code",
   "execution_count": null,
   "id": "a75cd392",
   "metadata": {},
   "outputs": [],
   "source": [
    "plt.figure(figsize = (26,5))\n",
    "plt.subplot(1, len(model.targets) + 1, 1)\n",
    "plt.imshow(img[0], cmap='gray')\n",
    "for i in range(len(model.targets)):\n",
    "    plt.subplot(1, len(model.targets) + 1, i+2)\n",
    "    plt.imshow(pred[0, i])\n",
    "    plt.title(model.targets[i])\n",
    "    plt.axis('off')\n",
    "plt.tight_layout()"
   ]
  },
  {
   "cell_type": "code",
   "execution_count": null,
   "id": "3055764e",
   "metadata": {},
   "outputs": [],
   "source": [
    "pred = 1 / (1 + np.exp(-pred))  # sigmoid\n",
    "pred[pred < 0.5] = 0\n",
    "pred[pred > 0.5] = 1"
   ]
  },
  {
   "cell_type": "code",
   "execution_count": null,
   "id": "e53f0545",
   "metadata": {},
   "outputs": [],
   "source": [
    "plt.figure(figsize = (26,5))\n",
    "plt.subplot(1, len(model.targets) + 1, 1)\n",
    "plt.imshow(img[0], cmap='gray')\n",
    "for i in range(len(model.targets)):\n",
    "    plt.subplot(1, len(model.targets) + 1, i+2)\n",
    "    plt.imshow(pred[0, i])\n",
    "    plt.title(model.targets[i])\n",
    "    plt.axis('off')\n",
    "plt.tight_layout()"
   ]
  },
  {
   "cell_type": "code",
   "execution_count": null,
   "id": "3e6945f4",
   "metadata": {},
   "outputs": [],
   "source": [
    "model = xrv.baseline_models.chestx_det.PSPNet()\n",
    "\n",
    "for i in range(0, len(ds)):\n",
    "    patient = ds.patients[i]\n",
    "    rx, label = ds[i]\n",
    "\n",
    "    rx = rx * 1024\n",
    "    img = rx.detach().numpy()\n",
    "    transform = torchvision.transforms.Compose([xrv.datasets.XRayCenterCrop(),xrv.datasets.XRayResizer(512)])\n",
    "    img = transform(img)\n",
    "    img = torch.from_numpy(img)\n",
    "    \n",
    "    with torch.no_grad():\n",
    "        pred = model(img)\n",
    "        \n",
    "    plt.figure(figsize = (5,3))\n",
    "    plt.subplot(1, 3, 1)\n",
    "    plt.imshow(img[0], cmap='gray')\n",
    "    plt.title(patient['id'])\n",
    "    \n",
    "    plt.subplot(1, 3, 2)\n",
    "    plt.imshow(pred[0, 8])\n",
    "    plt.title(model.targets[8])\n",
    "    plt.axis('off')\n",
    "    \n",
    "    pred = 1 / (1 + np.exp(-pred))  # sigmoid\n",
    "    pred[pred < 0.5] = 0\n",
    "    pred[pred > 0.5] = 1\n",
    "    \n",
    "    plt.subplot(1, 3, 3)\n",
    "    plt.imshow(pred[0, 8])\n",
    "    plt.title(model.targets[8])\n",
    "    plt.axis('off')\n",
    "    \n",
    "    plt.tight_layout()\n",
    "    plt.show()"
   ]
  },
  {
   "cell_type": "code",
   "execution_count": null,
   "id": "807ed399",
   "metadata": {},
   "outputs": [],
   "source": [
    "search_patient = 'CAC_001'\n",
    "\n",
    "model = xrv.baseline_models.chestx_det.PSPNet()\n",
    "\n",
    "for i in range(0, len(ds)):\n",
    "    patient = ds.patients[i]\n",
    "    if search_patient == patient['id']:\n",
    "        break\n",
    "        \n",
    "rx, label = ds[i]\n",
    "rx = rx * 1024\n",
    "img = rx.detach().numpy()\n",
    "transform = torchvision.transforms.Compose([xrv.datasets.XRayCenterCrop(),xrv.datasets.XRayResizer(512)])\n",
    "img = transform(img)\n",
    "img = torch.from_numpy(img)\n",
    "\n",
    "with torch.no_grad():\n",
    "    pred = model(img)\n",
    "\n",
    "plt.figure(figsize = (5,3))\n",
    "plt.subplot(1, 3, 1)\n",
    "plt.imshow(img[0], cmap='gray')\n",
    "plt.title(patient['id'])\n",
    "\n",
    "plt.subplot(1, 3, 2)\n",
    "plt.imshow(pred[0, 8])\n",
    "plt.title(model.targets[8])\n",
    "plt.axis('off')\n",
    "\n",
    "pred = 1 / (1 + np.exp(-pred))  # sigmoid\n",
    "pred[pred < 0.5] = 0\n",
    "pred[pred > 0.5] = 1\n",
    "\n",
    "plt.subplot(1, 3, 3)\n",
    "plt.imshow(pred[0, 8])\n",
    "plt.title(model.targets[8])\n",
    "plt.axis('off')\n",
    "\n",
    "plt.tight_layout()\n",
    "plt.show()"
   ]
  }
 ],
 "metadata": {
  "kernelspec": {
   "display_name": "Python 3 (ipykernel)",
   "language": "python",
   "name": "python3"
  },
  "language_info": {
   "codemirror_mode": {
    "name": "ipython",
    "version": 3
   },
   "file_extension": ".py",
   "mimetype": "text/x-python",
   "name": "python",
   "nbconvert_exporter": "python",
   "pygments_lexer": "ipython3",
   "version": "3.10.10"
  }
 },
 "nbformat": 4,
 "nbformat_minor": 5
}

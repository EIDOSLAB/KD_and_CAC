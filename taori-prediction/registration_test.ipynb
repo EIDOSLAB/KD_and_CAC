{
 "cells": [
  {
   "cell_type": "code",
   "execution_count": null,
   "metadata": {},
   "outputs": [],
   "source": [
    "import glob\n",
    "import numpy as np\n",
    "import os\n",
    "import SimpleITK as sitk\n",
    "import torch\n",
    "\n",
    "from ct import Ct\n",
    "\n",
    "device = torch.device('cuda') if torch.cuda.is_available() else torch.device('cpu')\n",
    "data_path = '../data/manifest-1668678461097/NSCLC Radiogenomics/AMC-027/04-28-1994-NA-VascularGATEDCHESTCTA Adult-45663/'\n",
    "\n",
    "cts = Ct.load_all_series(data_path)"
   ]
  },
  {
   "cell_type": "code",
   "execution_count": null,
   "metadata": {},
   "outputs": [],
   "source": [
    "fixed_image = cts[2].img.numpy()\n",
    "moving_image = cts[3].img.numpy()\n",
    "\n",
    "fixed_image.shape, moving_image.shape"
   ]
  },
  {
   "cell_type": "code",
   "execution_count": null,
   "metadata": {},
   "outputs": [],
   "source": [
    "# Require SimpleElastix that throws error compiling on Win10\n",
    "# elastixImageFilter = sitk.ElastixImageFilter()\n",
    "# elastixImageFilter.SetFixedImage(fixed_image)\n",
    "# elastixImageFilter.SetMovingImage(moving_image)\n",
    "# elastixImageFilter.SetParameterMap(sitk.GetDefaultParameterMap(\"affine\"))\n",
    "# elastixImageFilter.Execute()\n",
    "# resultImage = elastixImageFilter.GetResultImage()\n",
    "# sitk.WriteImage(resultImage, \"result_image\")"
   ]
  },
  {
   "cell_type": "code",
   "execution_count": null,
   "metadata": {},
   "outputs": [],
   "source": [
    "# download elastix binaries from https://github.com/SuperElastix/elastix/releases/tag/5.0.1\n",
    "import pyelastix\n",
    "\n",
    "os.environ['ELASTIX_PATH'] = 'C:\\\\Users\\\\rabdo\\\\git\\\\thesis\\\\3rd-party\\\\elastix-5.0.1-win64'\n",
    "\n",
    "params = pyelastix.get_default_params(type='AFFINE')\n",
    "#params = pyelastix.get_default_params()\n",
    "params.Metric = 'NormalizedMutualInformation'\n",
    "params.MaximumNumberOfIterations = 50\n",
    "#params.Transform = 'AffineTransform'\n",
    "moving_deformed, field = pyelastix.register(fixed_image, moving_image, params)"
   ]
  },
  {
   "cell_type": "code",
   "execution_count": null,
   "metadata": {},
   "outputs": [],
   "source": [
    "from matplotlib import pyplot as plt\n",
    "idx = 250\n",
    "\n",
    "fig = plt.figure(figsize=(30, 90))\n",
    "subplot = fig.add_subplot(1, 3, 1)\n",
    "subplot.set_title('fixed')\n",
    "plt.imshow(fixed_image[idx], cmap='gray')\n",
    "\n",
    "subplot = fig.add_subplot(1, 3, 2)\n",
    "subplot.set_title('moving')\n",
    "plt.imshow(moving_image[idx], cmap='gray')\n",
    "\n",
    "subplot = fig.add_subplot(1, 3, 3)\n",
    "subplot.set_title('transformed')\n",
    "plt.imshow(moving_deformed[idx], cmap='gray')"
   ]
  },
  {
   "cell_type": "code",
   "execution_count": null,
   "metadata": {},
   "outputs": [],
   "source": [
    "from sklearn.metrics.cluster import normalized_mutual_info_score\n",
    "\n",
    "normalized_mutual_info_score(fixed_image.ravel(), moving_image.ravel())"
   ]
  },
  {
   "cell_type": "code",
   "execution_count": null,
   "metadata": {},
   "outputs": [],
   "source": [
    "normalized_mutual_info_score(fixed_image.ravel(), moving_deformed.ravel())"
   ]
  },
  {
   "cell_type": "code",
   "execution_count": null,
   "metadata": {},
   "outputs": [],
   "source": [
    "normalized_mutual_info_score(fixed_image.ravel(), fixed_image.ravel())"
   ]
  },
  {
   "cell_type": "code",
   "execution_count": null,
   "metadata": {},
   "outputs": [],
   "source": [
    "# torch_similarity from https://github.com/yuta-hi/pytorch_similarity\n",
    "from torch_similarity.modules import NormalizedCrossCorrelation\n",
    "\n",
    "ncc = NormalizedCrossCorrelation()\n",
    "print(ncc(cts[2].img, cts[3].img))\n",
    "print(ncc(cts[2].img, torch.from_numpy(moving_deformed.copy())))"
   ]
  }
 ],
 "metadata": {
  "kernelspec": {
   "display_name": "Python 3.10.7 64-bit",
   "language": "python",
   "name": "python3"
  },
  "language_info": {
   "codemirror_mode": {
    "name": "ipython",
    "version": 3
   },
   "file_extension": ".py",
   "mimetype": "text/x-python",
   "name": "python",
   "nbconvert_exporter": "python",
   "pygments_lexer": "ipython3",
   "version": "3.10.7"
  },
  "orig_nbformat": 4,
  "vscode": {
   "interpreter": {
    "hash": "02d069b80ce8d1405797661061ea8b136c47b884583d5712563c1fdf85261dc1"
   }
  }
 },
 "nbformat": 4,
 "nbformat_minor": 2
}
